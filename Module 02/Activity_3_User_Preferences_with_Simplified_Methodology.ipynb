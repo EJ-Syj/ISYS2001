{
  "cells": [
    {
      "cell_type": "markdown",
      "metadata": {
        "id": "view-in-github",
        "colab_type": "text"
      },
      "source": [
        "<a href=\"https://colab.research.google.com/github/EJ-Syj/ISYS2001/blob/main/Module%2002/Activity_3_User_Preferences_with_Simplified_Methodology.ipynb\" target=\"_parent\"><img src=\"https://colab.research.google.com/assets/colab-badge.svg\" alt=\"Open In Colab\"/></a>"
      ]
    },
    {
      "cell_type": "markdown",
      "metadata": {
        "id": "yr5d5aH2aavz"
      },
      "source": [
        "# Activity 3: User Preferences with Simplified Methodology\n",
        "\n",
        "## Learning Outcome\n",
        "\n",
        "Apply a structured problem-solving methodology to design and implement a User Preferences program. In this activity, you will practise computational thinking by breaking down the problem into manageable steps—from planning and pseudocode to coding your final solution—and learn how to use AI tools to support your process.\n",
        "\n",
        "> **Note:** In this activity, we are focusing on the workflow and process of solving a problem, rather than the problem itself. While the tasks in this notebook are similar to those in Activity 2, the structured methodology presented here is designed to help you observe how a systematic approach can streamline your coding process. Reflect on how the two approaches differ in terms of planning, execution, and problem-solving, and consider which aspects of each workflow can be applied to your future projects."
      ]
    },
    {
      "cell_type": "raw",
      "metadata": {
        "id": "OPcFstWYaav6"
      },
      "source": [
        "---\n",
        "\n",
        "## Step 1 – State the Problem\n",
        "\n",
        "- **Goal:**\n",
        "  Build a program that collects several user preferences and then displays these preferences in a clear, personalised summary.\n",
        "\n",
        "- **Considerations:**\n",
        "  - What information should the program gather?\n",
        "    *(For example: name, favourite colour, favourite food, hobby, etc.)*\n",
        "  - How should the program present this information?\n",
        "    *(For example: a greeting message that summarises all responses.)*\n",
        "\n",
        "> **Tip:** Take a moment to write down in your own words what you want your program to achieve. This reflection helps clarify your objectives before you start coding.\n",
        "\n",
        "> **AI Tip:** Use an AI tool (like ChatGPT) to help you rephrase your description. For instance, ask:\n",
        "> \"Can you restate my description of a user preferences program to ensure I have captured the intent correctly?\"\n",
        "> Then, review the response to confirm that it aligns with what you have learned so far—using only `input()`, `print()`, basic primitive datatypes, and variables.\n",
        "\n",
        "---"
      ]
    },
    {
      "cell_type": "markdown",
      "metadata": {
        "id": "gsE3-N5Aaav6"
      },
      "source": [
        "## Step 2 – Describe Input and Output\n",
        "\n",
        "- **Inputs:**  \n",
        "  List the information you plan to ask for. For example:\n",
        "  - Name\n",
        "  - Favourite Colour\n",
        "  - Favourite Food\n",
        "  - Favourite Hobby\n",
        "\n",
        "- **Output:**  \n",
        "  Decide on the format of your summary message. For instance:\n",
        "  > \"Hello, [name]! Your favourite colour is [colour], you love [food], and you enjoy [hobby].\"\n",
        "\n",
        "> **Tip:** Mapping your inputs to the expected output helps you visualise the overall flow of your program.\n",
        "\n",
        "> **AI Tip:** Ask an AI tool for suggestions by saying, \"What are some creative ways to format a user preferences summary?\" Ensure the answer only uses concepts you’ve learned so far."
      ]
    },
    {
      "cell_type": "raw",
      "metadata": {
        "id": "hbRhhkoiaav6"
      },
      "source": [
        "---\n",
        "\n",
        "## Step 3 – Work the Problem by Hand\n",
        "\n",
        "Before writing any code, simulate the process:\n",
        "- **Sample Inputs:**\n",
        "  Imagine a user named \"Alice\" who selects:\n",
        "  - Favourite Colour: Blue\n",
        "  - Favourite Food: Pasta\n",
        "  - Favourite Hobby: Reading\n",
        "\n",
        "- **Expected Output:**\n",
        "  Write down the expected result:\n",
        "  > \"Hello, Alice! Your favourite colour is Blue, you love Pasta, and you enjoy Reading.\"\n",
        "\n",
        "> **Tip:** Try a couple of different input scenarios to ensure your plan is clear and robust.\n",
        "\n",
        "> **AI Tip:** If you're unsure about your expected output, ask an AI tool:\n",
        "> \"Does this output message clearly reflect the inputs provided?\"\n",
        "> This helps you verify your understanding using only the concepts you have learned.\n",
        "\n",
        "---"
      ]
    },
    {
      "cell_type": "markdown",
      "metadata": {
        "id": "5AuOqoC9aav6"
      },
      "source": [
        "## Step 4 – Develop an Algorithm (Pseudocode)\n",
        "\n",
        "Outline your approach using pseudocode. This bridges your plan to actual code. For example:\n",
        "\n",
        "```plain\n",
        "# Pseudocode for User Preferences program\n",
        "\n",
        "1. Start the program.\n",
        "2. Prompt the user for their name and store the input.\n",
        "3. Prompt the user for their favourite colour and store the input.\n",
        "4. Prompt the user for their favourite food and store the input.\n",
        "5. Prompt the user for their favourite hobby and store the input.\n",
        "6. Construct a summary message using the stored inputs.\n",
        "7. Print the summary message.\n",
        "8. End the program.\n",
        "```\n",
        "\n",
        "> **Tip:** Your pseudocode doesn’t need to follow Python syntax—it should simply outline the logical steps of your solution.\n",
        "\n",
        "> **AI Tip:** Ask an AI tool, \"Can you check my pseudocode for a user preferences program and suggest any improvements?\" Verify that the suggestions remain within the current scope of your learning (i.e., no advanced concepts like functions or f-strings yet).\n",
        "\n",
        "---\n",
        "\n",
        "## Step 5 – Write the Code\n",
        "\n",
        "Now, use your plan to build the actual program. Use the skeleton below to guide you:"
      ]
    },
    {
      "cell_type": "code",
      "metadata": {
        "id": "2s24hvYsaav7",
        "outputId": "58e6d224-6a11-4885-fd92-ef80434c8876",
        "colab": {
          "base_uri": "https://localhost:8080/"
        }
      },
      "source": [
        "# Step 5: Final Implementation of User Preferences program\n",
        "\n",
        "# Collect user input for various preferences\n",
        "name = input(\"What is your name? \")\n",
        "favourite_colour = input(\"What's your favourite colour? \")\n",
        "favourite_food = input(\"What's your favourite food? \")\n",
        "favourite_hobby = input(\"What's your favourite hobby? \")\n",
        "\n",
        "# Construct and display a personalised summary message\n",
        "print(\"\\nHello, \" + name + \"!\")\n",
        "print(\"Your favourite colour is \" + favourite_colour +\n",
        "      \", you love \" + favourite_food +\n",
        "      \", and you enjoy \" + favourite_hobby + \".\")"
      ],
      "execution_count": 1,
      "outputs": [
        {
          "output_type": "stream",
          "name": "stdout",
          "text": [
            "What is your name? Ej\n",
            "What's your favourite colour? Blue\n",
            "What's your favourite food? Noodle\n",
            "What's your favourite hobby? Ride\n",
            "\n",
            "Hello, Ej!\n",
            "Your favourite colour is Blue, you love Noodle, and you enjoy Ride.\n"
          ]
        }
      ]
    },
    {
      "cell_type": "markdown",
      "metadata": {
        "id": "JR8Eky7naav8"
      },
      "source": [
        "> **Tip:** Run the cell above to test your program and verify that your inputs are correctly captured and displayed.\n",
        "\n",
        "> **AI Tip:** If you encounter any errors or have questions about your code, ask follow-up questions like, \"How can I improve this code using only input(), print(), and variables?\" This will help ensure the solutions align with what you have learned so far.\n",
        "\n",
        "---\n",
        "\n",
        "## Mini-Challenges\n",
        "\n",
        "Enhance your program further by trying these optional challenges:\n",
        "\n",
        "1. **Starred Preferences:**  \n",
        "   Modify your output so each preference is printed on a new line with a star (`*`) at the beginning.  \n",
        "   *Example:*"
      ]
    },
    {
      "cell_type": "code",
      "metadata": {
        "md-indent": "   ",
        "id": "4M66AJuraav8",
        "outputId": "4838fe3d-9b6b-4e03-c9e3-e97e5a9df502",
        "colab": {
          "base_uri": "https://localhost:8080/"
        }
      },
      "source": [
        "print(\"* Name:\", name)\n",
        "print(\"* Favourite Colour:\", favourite_colour)\n",
        "print(\"* Favourite Food:\", favourite_food)\n",
        "print(\"* Favourite Hobby:\", favourite_hobby)"
      ],
      "execution_count": 2,
      "outputs": [
        {
          "output_type": "stream",
          "name": "stdout",
          "text": [
            "* Name: Ej\n",
            "* Favourite Colour: Blue\n",
            "* Favourite Food: Noodle\n",
            "* Favourite Hobby: Ride\n"
          ]
        }
      ]
    },
    {
      "cell_type": "code",
      "source": [
        "print(\"*name:\", name)\n",
        "print(\"* Favourite Colour:\", favourite_colour)\n",
        "print(\"* favourite food：\",favourite_food)\n",
        "print(\"* favourite Hobby:\", favourite_hobby)"
      ],
      "metadata": {
        "id": "6d8NaxU-DmDM",
        "outputId": "cc010b94-f731-49de-cd7b-ae5096597f34",
        "colab": {
          "base_uri": "https://localhost:8080/"
        }
      },
      "execution_count": 7,
      "outputs": [
        {
          "output_type": "stream",
          "name": "stdout",
          "text": [
            "*name: Ej\n",
            "* Favourite Colour: Blue\n",
            "* favourite food： Noodle\n",
            "* favourite Hobby: Ride\n"
          ]
        }
      ]
    },
    {
      "cell_type": "markdown",
      "metadata": {
        "id": "vxLkUsfhaav8"
      },
      "source": [
        "> **Hint:** Use the newline character `\\n` to break lines in your string, or print each line separately.\n",
        "\n",
        "2. **Age Calculator Challenge:**  \n",
        "   Ask the user for their birth year, calculate their age based on the current year, and print it.  \n",
        "   *Hint:* You may use the `datetime` module to get the current year—but remember, for now, focus on what you have learned. If this concept is new, you might ask an AI for a simpler explanation or a step-by-step guide."
      ]
    },
    {
      "cell_type": "code",
      "metadata": {
        "md-indent": "   ",
        "id": "V56phTDlaav8",
        "outputId": "e0382d84-459f-408f-f86c-9e376c9591ad",
        "colab": {
          "base_uri": "https://localhost:8080/"
        }
      },
      "source": [
        "import datetime\n",
        "birth_year = int(input(\"What year were you born? \"))\n",
        "current_year = datetime.datetime.now().year\n",
        "age = current_year - birth_year\n",
        "print(\"You are\", age, \"years old!\")"
      ],
      "execution_count": 3,
      "outputs": [
        {
          "output_type": "stream",
          "name": "stdout",
          "text": [
            "What year were you born? 2003\n",
            "You are 22 years old!\n"
          ]
        }
      ]
    },
    {
      "cell_type": "code",
      "source": [
        "import datetime\n",
        "birth_year = int(input(\"What year were you born?\"))\n",
        "current_year = datetime.datetime.now().year\n",
        "age = current_year - birth_year\n",
        "print(\"You are\", age,\"years old!\")"
      ],
      "metadata": {
        "id": "SqSPM3pDEhyI",
        "outputId": "353ebb4a-c0b2-4264-f734-d3dbbafd17b1",
        "colab": {
          "base_uri": "https://localhost:8080/"
        }
      },
      "execution_count": 8,
      "outputs": [
        {
          "output_type": "stream",
          "name": "stdout",
          "text": [
            "What year were you born?20000003\n",
            "You are -19997978 years old!\n"
          ]
        }
      ]
    },
    {
      "cell_type": "markdown",
      "metadata": {
        "id": "dgXE5znaaav9"
      },
      "source": [
        "3. **(Optional Advanced) F-String Formatting:**  \n",
        "   Refactor your summary message using f-strings for cleaner syntax.  \n",
        "   *Note:* This is optional and intended for those ready to explore a more advanced concept. If you're not familiar with f-strings yet, feel free to ask for a beginner-friendly explanation."
      ]
    },
    {
      "cell_type": "code",
      "metadata": {
        "md-indent": "   ",
        "id": "5qT35FApaav9"
      },
      "source": [
        "print(f\"Hello, {name}! Your favourite colour is {favourite_colour}, you love {favourite_food}, and you enjoy {favourite_hobby}.\")"
      ],
      "execution_count": null,
      "outputs": []
    },
    {
      "cell_type": "code",
      "source": [
        "print(f\"Hello,{name}! Your favourite colour is{favourite_colour},you love{favourite_food}, and you enjoy{favourite_hobby}\")"
      ],
      "metadata": {
        "id": "4i0le0srFTPn",
        "outputId": "00327474-fcbd-4052-fc76-6a2077dc8dde",
        "colab": {
          "base_uri": "https://localhost:8080/"
        }
      },
      "execution_count": 10,
      "outputs": [
        {
          "output_type": "stream",
          "name": "stdout",
          "text": [
            "Hello,Ej! Your favourite colour isBlue,you loveNoodle, and you enjoyRide\n"
          ]
        }
      ]
    },
    {
      "cell_type": "markdown",
      "metadata": {
        "id": "W8RUqip6aav9"
      },
      "source": [
        "> **AI Tip:** For each mini-challenge, ask AI questions like, \"Can you explain how to print multiple lines in Python?\" or \"What is an f-string, and how do I use it?\" Always follow up if any part of the explanation is unclear.\n",
        "\n",
        "---\n",
        "\n",
        "## Reflection and Next Steps\n",
        "\n",
        "Reflect on your experience with Activity 2 (the ad-hoc approach) versus Activity 3 (the structured approach). Did creating pseudocode first make the final coding step feel faster or easier? In what ways was the process different?\n",
        "\n",
        "  - What did you find most helpful about planning your program before coding?\n",
        "  - Did working through the pseudocode make the coding process easier?\n",
        "  - Which mini-challenge did you enjoy the most, and why?\n",
        "  - How did using AI tools help clarify the problem and refine your approach?\n",
        "\n",
        "> **Tip:** Reflecting on your process can help identify areas for improvement and spark ideas for future projects.\n",
        "\n",
        "- **General AI Usage Tip:**  \n",
        "  If you receive any suggestions from an AI tool that include concepts not yet covered (like exceptions, import statements, user-defined functions, or f-strings), ask follow-up questions to have them explained using only the topics you’ve learned so far (input(), print(), basic primitive datatypes, and variables). Critically evaluate the output to ensure it aligns with your current learning.\n",
        "\n",
        "- **Next Steps:**  \n",
        "  - Experiment by adding more preferences or modifying the output format.\n",
        "  - Share your approach with peers and discuss any creative solutions you discovered.\n",
        "  - Continue using AI tools as a resource, but always ask follow-up questions on anything you don’t understand and ensure that the advice is consistent with your course content.\n",
        "\n",
        "> **Note:** The focus in this activity is on the systematic approach to problem-solving. Use this structured methodology to streamline your process and build confidence in breaking down and tackling problems.\n",
        "\n",
        "Happy coding and enjoy the process of turning your blueprint into a working program!"
      ]
    }
  ],
  "metadata": {
    "kernelspec": {
      "name": "python3",
      "language": "python",
      "display_name": "Python 3 (ipykernel)"
    },
    "colab": {
      "provenance": [],
      "include_colab_link": true
    }
  },
  "nbformat": 4,
  "nbformat_minor": 0
}