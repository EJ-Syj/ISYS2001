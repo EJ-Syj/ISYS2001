{
  "cells": [
    {
      "cell_type": "markdown",
      "metadata": {
        "id": "view-in-github",
        "colab_type": "text"
      },
      "source": [
        "<a href=\"https://colab.research.google.com/github/EJ-Syj/ISYS2001/blob/main/Module%2002/Mini_Project_02_Finance_Tracker_Profile_Setup.ipynb\" target=\"_parent\"><img src=\"https://colab.research.google.com/assets/colab-badge.svg\" alt=\"Open In Colab\"/></a>"
      ]
    },
    {
      "cell_type": "markdown",
      "metadata": {
        "id": "Ij1d52FYcPuN"
      },
      "source": [
        "# Mini Project 02: Finance Tracker Profile Setup\n",
        "\n",
        "In this project, you will build the first component of our semester-long Personal Finance Tracker: the user profile setup. This project collates many of the exercises from this week’s activities. This is intentional—by combining these exercises, you can reflect on your progress and see how well you’re following the industry best practices we espouse. These practices include:\n",
        "\n",
        "- **Meaningful Notebook Naming:** Give your notebook a clear, descriptive name (e.g., `finance_tracker_profile_setup.ipynb`).\n",
        "- **Frequent Saves & Version Control:** Save your work often and use descriptive commit messages when uploading to GitHub.\n",
        "- **Descriptive Variable Names:** Use names like `user_name`, `theme_color`, etc., to clearly convey their purpose.\n",
        "- **Code Comments & Documentation:** Use text cells and inline comments to document your thought process.\n",
        "- **Critical Use of AI:** Ask follow-up questions if anything is unclear, and verify that AI suggestions align with the basics you’ve learnt (i.e., using input(), print(), basic data types, and variables).\n",
        "\n",
        "> **Tip:** Review these best practices periodically during the project to reinforce good coding habits.\n",
        "\n",
        "Let's get started!"
      ]
    },
    {
      "cell_type": "raw",
      "metadata": {
        "id": "Ps88qkRGcPuY"
      },
      "source": [
        "---\n",
        "\n",
        "## Project Overview and Instructions\n",
        "\n",
        "In this project, you'll create a program that:\n",
        "1. **Collects User Profile Information:**\n",
        "   Ask for the user's name, preferred app theme color, primary currency, and a main savings goal.\n",
        "2. **Displays a Personalised Welcome Message:**\n",
        "   Outputs a clear summary message using the collected data to confirm the profile setup.\n",
        "3. **Follows Industry Best Practices:**\n",
        "   Emphasises meaningful variable names, proper documentation, and good version control.\n",
        "\n",
        "**Project Steps:**\n",
        "1. **State the Problem**\n",
        "2. **Describe Input and Output**\n",
        "3. **Work the Problem by Hand**\n",
        "4. **Develop an Algorithm (Pseudocode)**\n",
        "5. **Write the Code**\n",
        "6. **Reflect on Best Practices & Use AI to Verify**\n",
        "\n",
        "> **Note:** Use this project as an opportunity to both practise coding and refine your professional development skills.\n",
        "\n",
        "---"
      ]
    },
    {
      "cell_type": "markdown",
      "metadata": {
        "id": "gz-zBa3NcPuY"
      },
      "source": [
        "## Step 1 – State the Problem\n",
        "\n",
        "Define the goal of your program in your own words. For example:\n",
        "\n",
        "- **Goal:** Build a program that creates a user profile for a finance tracker by collecting some initial settings and displays a personalized welcome message.\n",
        "- **Data to Gather:** User's name, preferred theme color, primary currency, and main savings goal.\n",
        "\n",
        "> **AI Usage Tip:**\n",
        "> If you're unsure whether your problem statement is clear, ask an AI tool:  \n",
        "> \"Can you restate my description of a Finance Tracker Profile Setup program using only input(), print(), and variables?\"  \n",
        "> Review the response to ensure it aligns with your current learning."
      ]
    },
    {
      "cell_type": "raw",
      "metadata": {
        "id": "zqObLbfQcPuY"
      },
      "source": [
        "---\n",
        "\n",
        "## Step 2 – Describe Input and Output\n",
        "\n",
        "**Inputs:**\n",
        "- `user_name` (string)\n",
        "- `theme_color` (string)\n",
        "- `primary_currency` (string)\n",
        "- `main_savings_goal` (string)\n",
        "\n",
        "**Expected Output:**\n",
        "A message like:\n",
        "> \"Welcome to your Personal Finance Tracker, [user_name]! Your profile is ready. The app will use a [theme_color] theme and all amounts will be in [primary_currency]. Let's start working towards your goal of saving for a [main_savings_goal]!\"\n",
        "\n",
        "> **Tip:** Mapping your inputs to the expected output helps you visualise the overall flow of your program.\n",
        "\n",
        "> **AI Usage Tip:**\n",
        "> Ask, \"What are some creative ways to format this welcome message for a finance app using only the basics?\" and verify that the suggestions adhere to input(), print(), and basic variables."
      ]
    },
    {
      "cell_type": "markdown",
      "metadata": {
        "id": "BMOazFMmcPuZ"
      },
      "source": [
        "## Step 3 – Work the Problem by Hand\n",
        "\n",
        "Simulate the process with sample inputs. For example, if:\n",
        "- `user_name` = \"Alex\"\n",
        "- `theme_color` = \"dark\"\n",
        "- `primary_currency` = \"AUD\"\n",
        "- `main_savings_goal` = \"a holiday\"\n",
        "\n",
        "Then the expected output is:  \n",
        "> \"Welcome to your Personal Finance Tracker, Alex! Your profile is ready. The app will use a dark theme and all amounts will be in AUD. Let's start working towards your goal of saving for a a holiday!\"\n",
        "\n",
        "> **Tip:** Try a few different scenarios on paper to confirm that your plan produces a consistent and clear output."
      ]
    },
    {
      "cell_type": "markdown",
      "metadata": {
        "id": "aY3xONe6cPuZ"
      },
      "source": [
        "---\n",
        "\n",
        "## Step 4 – Develop an Algorithm (Pseudocode)\n",
        "\n",
        "Outline your approach using pseudocode. For example:\n",
        "\n",
        "```plain\n",
        "1. Start the program.\n",
        "2. Prompt the user for their name and store it.\n",
        "3. Prompt for their preferred theme color and store it.\n",
        "4. Prompt for their primary currency and store it.\n",
        "5. Prompt for their main savings goal and store it.\n",
        "6. Construct a welcome and summary message using these inputs.\n",
        "7. Print the summary message.\n",
        "8. End the program.\n",
        "```\n",
        "\n",
        "> **Tip:** Your pseudocode need not follow Python syntax—it should simply outline the logical steps of your solution.\n",
        "\n",
        "> **AI Usage Tip:**\n",
        "> Ask an AI tool, \"Can you review my pseudocode for a Finance Tracker Profile Setup program and suggest improvements?\" Ensure that any suggestions stay within the basics you have learnt.\n",
        "\n",
        "---\n",
        "\n",
        "## Step 5 – Write the Code\n",
        "\n",
        "Translate your pseudocode into Python code. Below is one example solution:"
      ]
    },
    {
      "cell_type": "code",
      "metadata": {
        "id": "U8Ykypy4cPuZ"
      },
      "source": [
        "# Import datetime to timestamp your work\n",
        "from datetime import datetime\n",
        "\n",
        "# Collect user information for their financial profile\n",
        "user_name = input(\"What is your name? \")\n",
        "theme_color = input(\"What color would you like for your app theme? (e.g., blue, green, dark) \")\n",
        "primary_currency = input(\"What is your primary currency? (e.g., AUD, USD, EUR) \")\n",
        "main_savings_goal = input(\"What is one big savings goal you have? (e.g., New Car, Holiday) \")\n",
        "\n",
        "# Construct the personalized welcome message\n",
        "summary = (\"Welcome to your Personal Finance Tracker, \" + user_name + \"! Your profile is ready. \" + \\\n",
        "           \"The app will use a \" + theme_color + \" theme and all amounts will be in \" + \\\n",
        "           primary_currency + \". Let's start working towards your goal of saving for a \" + \\\n",
        "           main_savings_goal + \"!\")\n",
        "\n",
        "# Display the summary message\n",
        "print(summary)"
      ],
      "execution_count": null,
      "outputs": []
    },
    {
      "cell_type": "markdown",
      "metadata": {
        "id": "new-evidence-markdown-cell"
      },
      "source": [
        "---\n",
        "\n",
        "## 📋 Evidence Package for Lab Exit Ticket\n",
        "\n",
        "Complete the following evidence package to document your work and reflect on the process. This will be checked at the start of the next lab."
      ]
    },
    {
      "cell_type": "code",
      "metadata": {
        "id": "new-evidence-code-cell",
        "outputId": "eca0bd7f-2d3e-4b92-e8eb-95c10cb09308",
        "colab": {
          "base_uri": "https://localhost:8080/",
          "height": 211
        }
      },
      "source": [
        "# Complete this dictionary with your reflections.\n",
        "evidence_package = {\n",
        "    \"timestamp\": datetime.now().strftime('%Y-%m-%d %H:%M:%S'),\n",
        "    \"student_name\": \"[Your Name Here]\",\n",
        "    \"project_context\": \"This project involved creating the initial user profile for a personal finance tracker, focusing on applying a structured problem-solving methodology.\",\n",
        "    \"ai_tool_used\": \"[e.g., Gemini, ChatGPT, GitHub Copilot]\",\n",
        "    \"ai_assistance_summary\": \"[Describe how you used the AI. e.g., 'I used the AI to review my pseudocode for clarity and to suggest alternative wording for my final summary message.' ]\",\n",
        "    \"best_practice_reflection\": \"[Reflect on a best practice. e.g., 'Using descriptive variable names like `primary_currency` instead of `c` made my code self-documenting and much easier to read when constructing the final summary string.']\",\n",
        "    \"key_learning\": \"[What was your main takeaway? e.g., 'I learned that working the problem by hand first makes writing the actual code much faster because I already have a clear plan and expected output.']\"\n",
        "}\n",
        "\n",
        "# Display your evidence package\n",
        "print(\"=\"*50)\n",
        "print(\"EVIDENCE PACKAGE SUBMISSION\")\n",
        "print(\"=\"*50)\n",
        "for key, value in evidence_package.items():\n",
        "    # Format multi-line strings for better readability\n",
        "    if isinstance(value, str) and len(value) > 60:\n",
        "        print(f'\\n{key.replace(\"_\", \" \").title()}:\\n  {value}')\n",
        "    else:\n",
        "        print(f'{key.replace(\"_\", \" \").title()}: {value}')\n",
        "print(\"=\"*50)"
      ],
      "execution_count": 1,
      "outputs": [
        {
          "output_type": "error",
          "ename": "NameError",
          "evalue": "name 'datetime' is not defined",
          "traceback": [
            "\u001b[0;31m---------------------------------------------------------------------------\u001b[0m",
            "\u001b[0;31mNameError\u001b[0m                                 Traceback (most recent call last)",
            "\u001b[0;32m/tmp/ipython-input-3663048752.py\u001b[0m in \u001b[0;36m<cell line: 0>\u001b[0;34m()\u001b[0m\n\u001b[1;32m      1\u001b[0m \u001b[0;31m# Complete this dictionary with your reflections.\u001b[0m\u001b[0;34m\u001b[0m\u001b[0;34m\u001b[0m\u001b[0m\n\u001b[1;32m      2\u001b[0m evidence_package = {\n\u001b[0;32m----> 3\u001b[0;31m     \u001b[0;34m\"timestamp\"\u001b[0m\u001b[0;34m:\u001b[0m \u001b[0mdatetime\u001b[0m\u001b[0;34m.\u001b[0m\u001b[0mnow\u001b[0m\u001b[0;34m(\u001b[0m\u001b[0;34m)\u001b[0m\u001b[0;34m.\u001b[0m\u001b[0mstrftime\u001b[0m\u001b[0;34m(\u001b[0m\u001b[0;34m'%Y-%m-%d %H:%M:%S'\u001b[0m\u001b[0;34m)\u001b[0m\u001b[0;34m,\u001b[0m\u001b[0;34m\u001b[0m\u001b[0;34m\u001b[0m\u001b[0m\n\u001b[0m\u001b[1;32m      4\u001b[0m     \u001b[0;34m\"student_name\"\u001b[0m\u001b[0;34m:\u001b[0m \u001b[0;34m\"[Your Name Here]\"\u001b[0m\u001b[0;34m,\u001b[0m\u001b[0;34m\u001b[0m\u001b[0;34m\u001b[0m\u001b[0m\n\u001b[1;32m      5\u001b[0m     \u001b[0;34m\"project_context\"\u001b[0m\u001b[0;34m:\u001b[0m \u001b[0;34m\"This project involved creating the initial user profile for a personal finance tracker, focusing on applying a structured problem-solving methodology.\"\u001b[0m\u001b[0;34m,\u001b[0m\u001b[0;34m\u001b[0m\u001b[0;34m\u001b[0m\u001b[0m\n",
            "\u001b[0;31mNameError\u001b[0m: name 'datetime' is not defined"
          ]
        }
      ]
    },
    {
      "cell_type": "code",
      "source": [
        "from datetime import datetime\n",
        "\n",
        "evidence_package = {\n",
        "    \"timestamp\": datetime.now().strftime(\"%Y-%m-%d %H:%M:%S\"),\n",
        "    \"student_name\": \"Yi Jie Shi\",\n",
        "\n",
        "    \"project_content\": \"This project involved creating the initial user profile for a personal finance tracker, focusing on applying a structured problem-solving methodology.\",\n",
        "\n",
        "    \"ai_tool_used\": \"ChatGPT\",\n",
        "\n",
        "    \"ai_assistance_summary\": \"I used AI to clarify the logic of my pseudocode and improve my variable naming. It also helped me phrase the final summary message more clearly and professionally.\",\n",
        "\n",
        "    \"best_practice_reflection\": \"I followed the best practice of using descriptive and meaningful variable names like 'primary_currency' and 'main_savings_goal', which made my code more readable and self-documenting.\",\n",
        "\n",
        "    \"best_learning\": \"I learned the importance of gathering user input in a structured way and constructing output messages dynamically using string concatenation and formatting.\"\n",
        "}\n",
        "\n",
        "# Optional: display the result in a formatted way\n",
        "print(\"=\"*50)\n",
        "print(\"EVIDENCE PACKAGE SUBMISSION\")\n",
        "print(\"=\"*50)\n",
        "\n",
        "for key, value in evidence_package.items():\n",
        "    if isinstance(value, str) and len(value) > 60:\n",
        "        print(f\"\\n{key.replace('_', ' ').title()}:\\n{value}\")\n",
        "    else:\n",
        "        print(f\"{key.replace('_', ' ').title()}: {value}\")\n",
        "\n",
        "print(\"=\"*50)"
      ],
      "metadata": {
        "id": "jkuWhON8G4FP",
        "outputId": "c5dcaaad-8294-47c4-88e3-8dd16a0b4fde",
        "colab": {
          "base_uri": "https://localhost:8080/"
        }
      },
      "execution_count": 3,
      "outputs": [
        {
          "output_type": "stream",
          "name": "stdout",
          "text": [
            "==================================================\n",
            "EVIDENCE PACKAGE SUBMISSION\n",
            "==================================================\n",
            "Timestamp: 2025-08-04 12:44:57\n",
            "Student Name: Yi Jie Shi\n",
            "\n",
            "Project Content:\n",
            "This project involved creating the initial user profile for a personal finance tracker, focusing on applying a structured problem-solving methodology.\n",
            "Ai Tool Used: ChatGPT\n",
            "\n",
            "Ai Assistance Summary:\n",
            "I used AI to clarify the logic of my pseudocode and improve my variable naming. It also helped me phrase the final summary message more clearly and professionally.\n",
            "\n",
            "Best Practice Reflection:\n",
            "I followed the best practice of using descriptive and meaningful variable names like 'primary_currency' and 'main_savings_goal', which made my code more readable and self-documenting.\n",
            "\n",
            "Best Learning:\n",
            "I learned the importance of gathering user input in a structured way and constructing output messages dynamically using string concatenation and formatting.\n",
            "==================================================\n"
          ]
        }
      ]
    },
    {
      "cell_type": "markdown",
      "metadata": {
        "id": "cGuW0n5scPua"
      },
      "source": [
        "---\n",
        "\n",
        "## Reflection on Industry Best Practices\n",
        "\n",
        "Reflect on these questions:\n",
        "- How did using descriptive variable names and comments improve your code?\n",
        "- Did you save your work frequently and use meaningful commit messages on GitHub?\n",
        "- How did documenting your thought process help you understand your solution better?\n",
        "\n",
        "> **AI Usage Tip:**\n",
        "> Ask an AI tool, \"Can you suggest improvements to my project documentation and commit message examples based on industry best practices for a finance app setup?\" Verify that the suggestions are consistent with the fundamentals you have learnt.\n",
        "\n",
        "---\n",
        "\n",
        "## Final Reflection and Next Steps\n",
        "\n",
        "- **Reflect:**\n",
        "  Review your completed project and consider how collating these exercises helped you see your progress. Ask yourself if you’re following the best practices we discussed.\n",
        "- **Experiment:**\n",
        "  Try adding more inputs (like a secondary savings goal) or adjusting the output format.\n",
        "- **Share:**\n",
        "  Post your project on GitHub with clear commit messages and share it with peers for feedback.\n",
        "- **Continue Using AI:**\n",
        "  Use AI tools to clarify doubts or review your work, but always verify that the suggestions align with what you've learnt (i.e., only using input(), print(), and basic variables).\n",
        "\n",
        "> **Final Note:**\n",
        "> Happy coding, and remember—the practices you develop here are examples from industry that help build clean, maintainable code. They’re not definitive rules, but good habits to emulate as you grow as a software developer.\n",
        "\n",
        "---\n",
        "\n",
        "Enjoy building this first step of your Personal Finance Tracker while practising these best practices!"
      ]
    }
  ],
  "metadata": {
    "kernelspec": {
      "name": "python3",
      "language": "python",
      "display_name": "Python 3 (ipykernel)"
    },
    "colab": {
      "provenance": [],
      "include_colab_link": true
    }
  },
  "nbformat": 4,
  "nbformat_minor": 0
}